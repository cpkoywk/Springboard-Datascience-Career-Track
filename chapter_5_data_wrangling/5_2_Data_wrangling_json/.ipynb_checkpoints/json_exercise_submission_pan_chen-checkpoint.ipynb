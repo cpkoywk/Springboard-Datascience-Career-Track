{
 "cells": [
  {
   "cell_type": "markdown",
   "metadata": {},
   "source": [
    "# JSON  exercise\n",
    "## Please scroll down to the bottom for the update using json_normalize function\n",
    "\n",
    "Springboard Data Science Carrer track Chapter 5.2 JSON Based Data Exercises\n",
    "\n",
    "** Submitted by: Pan Chen**\n",
    "\n",
    "Using data in file 'data/world_bank_projects.json' and the techniques demonstrated above,\n",
    "1. Find the 10 countries with most projects\n",
    "2. Find the top 10 major project themes (using column 'mjtheme_namecode')\n",
    "3. In 2. above you will notice that some entries have only the code and the name is missing. Create a dataframe with the missing names filled in."
   ]
  },
  {
   "cell_type": "markdown",
   "metadata": {},
   "source": [
    "## 1. Find the 10 countries with most projects\n"
   ]
  },
  {
   "cell_type": "code",
   "execution_count": 17,
   "metadata": {},
   "outputs": [
    {
     "name": "stdout",
     "output_type": "stream",
     "text": [
      "height has been deprecated.\n",
      "\n",
      "line_width has been deprecated, use display.width instead (currently both are\n",
      "identical)\n",
      "\n",
      "China                 19\n",
      "Indonesia             19\n",
      "Vietnam               17\n",
      "India                 16\n",
      "Yemen, Republic of    13\n",
      "Bangladesh            12\n",
      "Nepal                 12\n",
      "Morocco               12\n",
      "Mozambique            11\n",
      "Africa                11\n",
      "Name: countryshortname, dtype: int64\n"
     ]
    },
    {
     "name": "stderr",
     "output_type": "stream",
     "text": [
      "/Users/cpkoywk/anaconda/lib/python3.6/site-packages/ipykernel_launcher.py:5: FutureWarning: \n",
      "mpl_style had been deprecated and will be removed in a future version.\n",
      "Use `matplotlib.pyplot.style.use` instead.\n",
      "\n",
      "  \"\"\"\n"
     ]
    },
    {
     "data": {
      "text/plain": [
       "\"(['China', 'Indonesia', 'Vietnam', 'India', 'Yemen, Republic of',\\n       'Morocco', 'Bangladesh', 'Nepal', 'Africa', 'Mozambique']\\n       are 10 countries with most projects\\n       \""
      ]
     },
     "execution_count": 17,
     "metadata": {},
     "output_type": "execute_result"
    }
   ],
   "source": [
    "#1. Find the 10 countries with most projects\n",
    "#import packages\n",
    "import json\n",
    "import pandas as pd\n",
    "pd.reset_option('all') \n",
    "\n",
    "#load json file\n",
    "df = pd.read_json('data/world_bank_projects.json')\n",
    "\n",
    "#find the value counts of each country\n",
    "print(df['countryshortname'].value_counts(dropna=False)[0:10])\n",
    "\n",
    "'''(['China', 'Indonesia', 'Vietnam', 'India', 'Yemen, Republic of',\n",
    "       'Morocco', 'Bangladesh', 'Nepal', 'Africa', 'Mozambique']\n",
    "       are 10 countries with most projects\n",
    "       '''"
   ]
  },
  {
   "cell_type": "markdown",
   "metadata": {},
   "source": [
    "## 2. Find the top 10 major project themes (using column 'mjtheme_namecode')\n"
   ]
  },
  {
   "cell_type": "code",
   "execution_count": 3,
   "metadata": {},
   "outputs": [
    {
     "name": "stdout",
     "output_type": "stream",
     "text": [
      "[{'code': '8', 'name': 'Human development'}, {'code': '11', 'name': ''}]\n",
      "11    250\n",
      "10    216\n",
      "8     210\n",
      "2     199\n",
      "6     168\n",
      "4     146\n",
      "7     130\n",
      "5      77\n",
      "9      50\n",
      "1      38\n",
      "Name: code, dtype: int64\n"
     ]
    },
    {
     "data": {
      "text/plain": [
       "\"\\nProject codes '11', '10', '8', '2', '6', '4', '7', '5', '9', '1' are the top 10\\n\""
      ]
     },
     "execution_count": 3,
     "metadata": {},
     "output_type": "execute_result"
    }
   ],
   "source": [
    "#print(df['mjtheme_namecode'].value_counts(dropna=False))\n",
    "\n",
    "#inspect a mj_theme_namecode\n",
    "print(df['mjtheme_namecode'][0])\n",
    "\n",
    "# it looks like each mjtheme_namecode cell contains a list that contains one or many dictionaries\n",
    "# each dictionary represents one project theme\n",
    "\n",
    "#create a list with all of the mjtheme_namecode column values\n",
    "tmp=df['mjtheme_namecode'].values.tolist()\n",
    "#flatten the list\n",
    "tmp=sum(tmp,[])\n",
    "#make a pandas DataFrame from the list\n",
    "projectcodedf=pd.DataFrame(tmp)\n",
    "#check the 10 most frequent theme code:\n",
    "print(projectcodedf['code'].value_counts(dropna=False)[0:10])\n",
    "\n",
    "'''\n",
    "Project codes '11', '10', '8', '2', '6', '4', '7', '5', '9', '1' are the top 10\n",
    "'''\n",
    "\n"
   ]
  },
  {
   "cell_type": "markdown",
   "metadata": {},
   "source": [
    "## 3. In 2. above you will notice that some entries have only the code and the name is missing. Create a dataframe with the missing names filled in."
   ]
  },
  {
   "cell_type": "code",
   "execution_count": 18,
   "metadata": {},
   "outputs": [
    {
     "name": "stdout",
     "output_type": "stream",
     "text": [
      "number of blank names:122\n"
     ]
    },
    {
     "data": {
      "text/html": [
       "<div>\n",
       "<style>\n",
       "    .dataframe thead tr:only-child th {\n",
       "        text-align: right;\n",
       "    }\n",
       "\n",
       "    .dataframe thead th {\n",
       "        text-align: left;\n",
       "    }\n",
       "\n",
       "    .dataframe tbody tr th {\n",
       "        vertical-align: top;\n",
       "    }\n",
       "</style>\n",
       "<table border=\"1\" class=\"dataframe\">\n",
       "  <thead>\n",
       "    <tr style=\"text-align: right;\">\n",
       "      <th></th>\n",
       "      <th>name</th>\n",
       "    </tr>\n",
       "    <tr>\n",
       "      <th>code</th>\n",
       "      <th></th>\n",
       "    </tr>\n",
       "  </thead>\n",
       "  <tbody>\n",
       "    <tr>\n",
       "      <th>8</th>\n",
       "      <td>Human development</td>\n",
       "    </tr>\n",
       "    <tr>\n",
       "      <th>1</th>\n",
       "      <td>Economic management</td>\n",
       "    </tr>\n",
       "    <tr>\n",
       "      <th>6</th>\n",
       "      <td>Social protection and risk management</td>\n",
       "    </tr>\n",
       "    <tr>\n",
       "      <th>5</th>\n",
       "      <td>Trade and integration</td>\n",
       "    </tr>\n",
       "    <tr>\n",
       "      <th>2</th>\n",
       "      <td>Public sector governance</td>\n",
       "    </tr>\n",
       "    <tr>\n",
       "      <th>11</th>\n",
       "      <td>Environment and natural resources management</td>\n",
       "    </tr>\n",
       "    <tr>\n",
       "      <th>7</th>\n",
       "      <td>Social dev/gender/inclusion</td>\n",
       "    </tr>\n",
       "    <tr>\n",
       "      <th>4</th>\n",
       "      <td>Financial and private sector development</td>\n",
       "    </tr>\n",
       "    <tr>\n",
       "      <th>10</th>\n",
       "      <td>Rural development</td>\n",
       "    </tr>\n",
       "    <tr>\n",
       "      <th>9</th>\n",
       "      <td>Urban development</td>\n",
       "    </tr>\n",
       "    <tr>\n",
       "      <th>3</th>\n",
       "      <td>Rule of law</td>\n",
       "    </tr>\n",
       "  </tbody>\n",
       "</table>\n",
       "</div>"
      ],
      "text/plain": [
       "                                              name\n",
       "code                                              \n",
       "8                                Human development\n",
       "1                              Economic management\n",
       "6            Social protection and risk management\n",
       "5                            Trade and integration\n",
       "2                         Public sector governance\n",
       "11    Environment and natural resources management\n",
       "7                      Social dev/gender/inclusion\n",
       "4         Financial and private sector development\n",
       "10                               Rural development\n",
       "9                                Urban development\n",
       "3                                      Rule of law"
      ]
     },
     "execution_count": 18,
     "metadata": {},
     "output_type": "execute_result"
    }
   ],
   "source": [
    "import numpy as np\n",
    "\n",
    "print('number of blank names:{}'.format(sum(projectcodedf.name=='')))\n",
    "\n",
    "#get a DataFrame of code and name\n",
    "uniqueproj=projectcodedf.replace('',np.nan).dropna().drop_duplicates()\n",
    "uniqueproj=uniqueproj.set_index('code')\n",
    "uniqueproj"
   ]
  },
  {
   "cell_type": "code",
   "execution_count": 29,
   "metadata": {},
   "outputs": [
    {
     "ename": "AttributeError",
     "evalue": "'list' object has no attribute 'values'",
     "output_type": "error",
     "traceback": [
      "\u001b[0;31m---------------------------------------------------------------------------\u001b[0m",
      "\u001b[0;31mAttributeError\u001b[0m                            Traceback (most recent call last)",
      "\u001b[0;32m<ipython-input-29-a69a9885612a>\u001b[0m in \u001b[0;36m<module>\u001b[0;34m()\u001b[0m\n\u001b[1;32m      1\u001b[0m \u001b[0;32mfrom\u001b[0m \u001b[0mpandas\u001b[0m\u001b[0;34m.\u001b[0m\u001b[0mio\u001b[0m\u001b[0;34m.\u001b[0m\u001b[0mjson\u001b[0m \u001b[0;32mimport\u001b[0m \u001b[0mjson_normalize\u001b[0m\u001b[0;34m\u001b[0m\u001b[0m\n\u001b[0;32m----> 2\u001b[0;31m \u001b[0mjson_normalize\u001b[0m\u001b[0;34m(\u001b[0m\u001b[0mdf\u001b[0m\u001b[0;34m.\u001b[0m\u001b[0mmjtheme_namecode\u001b[0m\u001b[0;34m.\u001b[0m\u001b[0mvalues\u001b[0m\u001b[0;34m)\u001b[0m\u001b[0;34m\u001b[0m\u001b[0m\n\u001b[0m",
      "\u001b[0;32m/Users/cpkoywk/anaconda/lib/python3.6/site-packages/pandas/io/json/normalize.py\u001b[0m in \u001b[0;36mjson_normalize\u001b[0;34m(data, record_path, meta, meta_prefix, record_prefix, errors, sep)\u001b[0m\n\u001b[1;32m    181\u001b[0m \u001b[0;34m\u001b[0m\u001b[0m\n\u001b[1;32m    182\u001b[0m     \u001b[0;32mif\u001b[0m \u001b[0mrecord_path\u001b[0m \u001b[0;32mis\u001b[0m \u001b[0;32mNone\u001b[0m\u001b[0;34m:\u001b[0m\u001b[0;34m\u001b[0m\u001b[0m\n\u001b[0;32m--> 183\u001b[0;31m         \u001b[0;32mif\u001b[0m \u001b[0many\u001b[0m\u001b[0;34m(\u001b[0m\u001b[0;34m[\u001b[0m\u001b[0misinstance\u001b[0m\u001b[0;34m(\u001b[0m\u001b[0mx\u001b[0m\u001b[0;34m,\u001b[0m \u001b[0mdict\u001b[0m\u001b[0;34m)\u001b[0m \u001b[0;32mfor\u001b[0m \u001b[0mx\u001b[0m \u001b[0;32min\u001b[0m \u001b[0mcompat\u001b[0m\u001b[0;34m.\u001b[0m\u001b[0mitervalues\u001b[0m\u001b[0;34m(\u001b[0m\u001b[0mdata\u001b[0m\u001b[0;34m[\u001b[0m\u001b[0;36m0\u001b[0m\u001b[0;34m]\u001b[0m\u001b[0;34m)\u001b[0m\u001b[0;34m]\u001b[0m\u001b[0;34m)\u001b[0m\u001b[0;34m:\u001b[0m\u001b[0;34m\u001b[0m\u001b[0m\n\u001b[0m\u001b[1;32m    184\u001b[0m             \u001b[0;31m# naive normalization, this is idempotent for flat records\u001b[0m\u001b[0;34m\u001b[0m\u001b[0;34m\u001b[0m\u001b[0m\n\u001b[1;32m    185\u001b[0m             \u001b[0;31m# and potentially will inflate the data considerably for\u001b[0m\u001b[0;34m\u001b[0m\u001b[0;34m\u001b[0m\u001b[0m\n",
      "\u001b[0;32m/Users/cpkoywk/anaconda/lib/python3.6/site-packages/pandas/compat/__init__.py\u001b[0m in \u001b[0;36mitervalues\u001b[0;34m(obj, **kw)\u001b[0m\n\u001b[1;32m    182\u001b[0m \u001b[0;34m\u001b[0m\u001b[0m\n\u001b[1;32m    183\u001b[0m     \u001b[0;32mdef\u001b[0m \u001b[0mitervalues\u001b[0m\u001b[0;34m(\u001b[0m\u001b[0mobj\u001b[0m\u001b[0;34m,\u001b[0m \u001b[0;34m**\u001b[0m\u001b[0mkw\u001b[0m\u001b[0;34m)\u001b[0m\u001b[0;34m:\u001b[0m\u001b[0;34m\u001b[0m\u001b[0m\n\u001b[0;32m--> 184\u001b[0;31m         \u001b[0;32mreturn\u001b[0m \u001b[0miter\u001b[0m\u001b[0;34m(\u001b[0m\u001b[0mobj\u001b[0m\u001b[0;34m.\u001b[0m\u001b[0mvalues\u001b[0m\u001b[0;34m(\u001b[0m\u001b[0;34m**\u001b[0m\u001b[0mkw\u001b[0m\u001b[0;34m)\u001b[0m\u001b[0;34m)\u001b[0m\u001b[0;34m\u001b[0m\u001b[0m\n\u001b[0m\u001b[1;32m    185\u001b[0m \u001b[0;34m\u001b[0m\u001b[0m\n\u001b[1;32m    186\u001b[0m     \u001b[0mnext\u001b[0m \u001b[0;34m=\u001b[0m \u001b[0mnext\u001b[0m\u001b[0;34m\u001b[0m\u001b[0m\n",
      "\u001b[0;31mAttributeError\u001b[0m: 'list' object has no attribute 'values'"
     ]
    }
   ],
   "source": [
    "from pandas.io.json import json_normalize\n",
    "json_normalize(df.mjtheme_namecode.values)\n"
   ]
  },
  {
   "cell_type": "code",
   "execution_count": 32,
   "metadata": {},
   "outputs": [
    {
     "name": "stderr",
     "output_type": "stream",
     "text": [
      "IOPub data rate exceeded.\n",
      "The notebook server will temporarily stop sending output\n",
      "to the client in order to avoid crashing it.\n",
      "To change this limit, set the config variable\n",
      "`--NotebookApp.iopub_data_rate_limit`.\n"
     ]
    }
   ],
   "source": [
    "# Load JSON: json_data\n",
    "with open(\"data/world_bank_projects.json\") as json_file:\n",
    "    json_data=json.load(json_file)\n",
    "    \n"
   ]
  },
  {
   "cell_type": "code",
   "execution_count": 26,
   "metadata": {},
   "outputs": [
    {
     "name": "stdout",
     "output_type": "stream",
     "text": [
      "number of blank names:0\n"
     ]
    }
   ],
   "source": [
    "#define a function re-fill all the values in 'mjtheme_namecode' column \n",
    "#according to the DataFrame above\n",
    "def fillna(li):\n",
    "    for di in li:\n",
    "        di['name']=uniqueproj.loc[di['code'],'name']\n",
    "    return li\n",
    "    \n",
    "df.mjtheme_namecode.apply(fillna)\n",
    "\n",
    "#run the process in question 2 again to see if we got blanks this time:\n",
    "#create a list with all of the mjtheme_namecode column values\n",
    "tmp=df['mjtheme_namecode'].values.tolist()\n",
    "#flatten the list\n",
    "tmp=sum(tmp,[])\n",
    "#make a pandas DataFrame from the list\n",
    "projectcodedf=pd.DataFrame(tmp)\n",
    "print('number of blank names:{}'.format(sum(projectcodedf.name=='')))\n",
    "\n",
    "#No blank values now\n",
    "\n",
    "#fill df.mjtheme's NA\n",
    "def fillna2(li):\n",
    "    mjtheme=[]\n",
    "    for di in li:\n",
    "        mjtheme.append(uniqueproj.loc[di['code'],'name'])\n",
    "    return mjtheme\n",
    "\n",
    "df.mjtheme=df.mjtheme_namecode.apply(fillna2)\n",
    "\n",
    "#Now both 'mjtheme' and 'mjtheme_namecode' columns' blanks are filled with appropriate values\n",
    "print(df.head(20))\n",
    "\n",
    "'''\n",
    "Mission accomplished on \"df\" DataFrame \n",
    "'''"
   ]
  },
  {
   "cell_type": "code",
   "execution_count": 15,
   "metadata": {
    "collapsed": true
   },
   "outputs": [],
   "source": []
  },
  {
   "cell_type": "code",
   "execution_count": 27,
   "metadata": {},
   "outputs": [
    {
     "name": "stdout",
     "output_type": "stream",
     "text": [
      "                                     _id  approvalfy board_approval_month  \\\n",
      "0   {'$oid': '52b213b38594d8a2be17c780'}        1999             November   \n",
      "1   {'$oid': '52b213b38594d8a2be17c781'}        2015             November   \n",
      "2   {'$oid': '52b213b38594d8a2be17c782'}        2014             November   \n",
      "3   {'$oid': '52b213b38594d8a2be17c783'}        2014              October   \n",
      "4   {'$oid': '52b213b38594d8a2be17c784'}        2014              October   \n",
      "5   {'$oid': '52b213b38594d8a2be17c785'}        2014              October   \n",
      "6   {'$oid': '52b213b38594d8a2be17c786'}        2014              October   \n",
      "7   {'$oid': '52b213b38594d8a2be17c787'}        2014              October   \n",
      "8   {'$oid': '52b213b38594d8a2be17c788'}        2014              October   \n",
      "9   {'$oid': '52b213b38594d8a2be17c789'}        2014              October   \n",
      "10  {'$oid': '52b213b38594d8a2be17c78a'}        2014              October   \n",
      "11  {'$oid': '52b213b38594d8a2be17c78b'}        2014              October   \n",
      "12  {'$oid': '52b213b38594d8a2be17c78c'}        2014              October   \n",
      "13  {'$oid': '52b213b38594d8a2be17c78d'}        2014              October   \n",
      "14  {'$oid': '52b213b38594d8a2be17c78e'}        2014              October   \n",
      "15  {'$oid': '52b213b38594d8a2be17c78f'}        2014              October   \n",
      "16  {'$oid': '52b213b38594d8a2be17c790'}        2014              October   \n",
      "17  {'$oid': '52b213b38594d8a2be17c791'}        2014              October   \n",
      "18  {'$oid': '52b213b38594d8a2be17c792'}        2014              October   \n",
      "19  {'$oid': '52b213b38594d8a2be17c793'}        2014              October   \n",
      "\n",
      "       boardapprovaldate                                 borrower  \\\n",
      "0   2013-11-12T00:00:00Z  FEDERAL DEMOCRATIC REPUBLIC OF ETHIOPIA   \n",
      "1   2013-11-04T00:00:00Z                    GOVERNMENT OF TUNISIA   \n",
      "2   2013-11-01T00:00:00Z   MINISTRY OF FINANCE AND ECONOMIC DEVEL   \n",
      "3   2013-10-31T00:00:00Z   MIN. OF PLANNING AND INT'L COOPERATION   \n",
      "4   2013-10-31T00:00:00Z                      MINISTRY OF FINANCE   \n",
      "5   2013-10-31T00:00:00Z                        REPUBLIC OF KENYA   \n",
      "6   2013-10-29T00:00:00Z                      GOVERNMENT OF INDIA   \n",
      "7   2013-10-29T00:00:00Z               PEOPLE'S REPUBLIC OF CHINA   \n",
      "8   2013-10-29T00:00:00Z                  THE GOVERNMENT OF INDIA   \n",
      "9   2013-10-29T00:00:00Z                   THE KINGDOM OF MOROCCO   \n",
      "10  2013-10-25T00:00:00Z                GOVERNMENT OF SOUTH SUDAN   \n",
      "11  2013-10-25T00:00:00Z                                      NaN   \n",
      "12  2013-10-24T00:00:00Z                      GOVERNMENT OF GHANA   \n",
      "13  2013-10-22T00:00:00Z                GOVERNMENT OF TIMOR LESTE   \n",
      "14  2013-10-22T00:00:00Z                     GOVERNMENT OF JORDAN   \n",
      "15  2013-10-17T00:00:00Z                      MINISTRY OF FINANCE   \n",
      "16  2013-10-17T00:00:00Z                      MINISTRY OF FINANCE   \n",
      "17  2013-10-16T00:00:00Z     MINISTRY OF FINANCE AND BUDGET (MFB)   \n",
      "18  2013-10-16T00:00:00Z             ROYAL GOVERNMENT OF CAMBODIA   \n",
      "19  2013-10-10T00:00:00Z                      MINISTRY OF FINANCE   \n",
      "\n",
      "             closingdate                              country_namecode  \\\n",
      "0   2018-07-07T00:00:00Z  Federal Democratic Republic of Ethiopia!$!ET   \n",
      "1                    NaN                      Republic of Tunisia!$!TN   \n",
      "2                    NaN                                   Tuvalu!$!TV   \n",
      "3                    NaN                        Republic of Yemen!$!RY   \n",
      "4   2019-04-30T00:00:00Z                       Kingdom of Lesotho!$!LS   \n",
      "5                    NaN                        Republic of Kenya!$!KE   \n",
      "6   2019-06-30T00:00:00Z                        Republic of India!$!IN   \n",
      "7                    NaN               People's Republic of China!$!CN   \n",
      "8   2018-12-31T00:00:00Z                        Republic of India!$!IN   \n",
      "9   2014-12-31T00:00:00Z                       Kingdom of Morocco!$!MA   \n",
      "10                   NaN                  Republic of South Sudan!$!SS   \n",
      "11  2017-12-31T00:00:00Z                        Republic of India!$!IN   \n",
      "12  2019-06-30T00:00:00Z                        Republic of Ghana!$!GH   \n",
      "13                   NaN       Democratic Republic of Timor-Leste!$!TP   \n",
      "14                   NaN              Hashemite Kingdom of Jordan!$!JO   \n",
      "15  2019-04-30T00:00:00Z                                    Samoa!$!WS   \n",
      "16  2015-12-31T00:00:00Z                                    Samoa!$!WS   \n",
      "17                   NaN                   Republic of Madagascar!$!MG   \n",
      "18                   NaN                      Kingdom of Cambodia!$!KH   \n",
      "19                   NaN                       Kingdom of Morocco!$!MA   \n",
      "\n",
      "   countrycode                              countryname    countryshortname  \\\n",
      "0           ET  Federal Democratic Republic of Ethiopia            Ethiopia   \n",
      "1           TN                      Republic of Tunisia             Tunisia   \n",
      "2           TV                                   Tuvalu              Tuvalu   \n",
      "3           RY                        Republic of Yemen  Yemen, Republic of   \n",
      "4           LS                       Kingdom of Lesotho             Lesotho   \n",
      "5           KE                        Republic of Kenya               Kenya   \n",
      "6           IN                        Republic of India               India   \n",
      "7           CN               People's Republic of China               China   \n",
      "8           IN                        Republic of India               India   \n",
      "9           MA                       Kingdom of Morocco             Morocco   \n",
      "10          SS                  Republic of South Sudan         South Sudan   \n",
      "11          IN                        Republic of India               India   \n",
      "12          GH                        Republic of Ghana               Ghana   \n",
      "13          TP       Democratic Republic of Timor-Leste         Timor-Leste   \n",
      "14          JO              Hashemite Kingdom of Jordan              Jordan   \n",
      "15          WS                                    Samoa               Samoa   \n",
      "16          WS                                    Samoa               Samoa   \n",
      "17          MG                   Republic of Madagascar          Madagascar   \n",
      "18          KH                      Kingdom of Cambodia            Cambodia   \n",
      "19          MA                       Kingdom of Morocco             Morocco   \n",
      "\n",
      "                          ...                              sectorcode source  \\\n",
      "0                         ...                             ET,BS,ES,EP   IBRD   \n",
      "1                         ...                                   BZ,BS   IBRD   \n",
      "2                         ...                                      TI   IBRD   \n",
      "3                         ...                                      JB   IBRD   \n",
      "4                         ...                                FH,YW,YZ   IBRD   \n",
      "5                         ...                                      JB   IBRD   \n",
      "6                         ...                                      TI   IBRD   \n",
      "7                         ...                                      LR   IBRD   \n",
      "8                         ...                                      TI   IBRD   \n",
      "9                         ...                                BM,BC,BZ   IBRD   \n",
      "10                        ...                                AZ,JB,AH   IBRD   \n",
      "11                        ...                             JB,YC,WD,TI   IBRD   \n",
      "12                        ...                                      CZ   IBRD   \n",
      "13                        ...                                   BV,TI   IBRD   \n",
      "14                        ...                                      JB   IBRD   \n",
      "15                        ...                                      TI   IBRD   \n",
      "16                        ...                                AZ,AJ,AH   IBRD   \n",
      "17                        ...                                      EP   IBRD   \n",
      "18                        ...                          BK,JB,BH,BC,JA   IBRD   \n",
      "19                        ...                                BH,BC,BZ   IBRD   \n",
      "\n",
      "    status  supplementprojectflg  \\\n",
      "0   Active                     N   \n",
      "1   Active                     N   \n",
      "2   Active                     Y   \n",
      "3   Active                     N   \n",
      "4   Active                     N   \n",
      "5   Active                     Y   \n",
      "6   Active                     N   \n",
      "7   Active                     N   \n",
      "8   Active                     N   \n",
      "9   Active                     N   \n",
      "10  Active                     Y   \n",
      "11  Active                     N   \n",
      "12  Active                     N   \n",
      "13  Active                     Y   \n",
      "14  Active                     N   \n",
      "15  Active                     N   \n",
      "16  Active                     N   \n",
      "17  Active                     N   \n",
      "18  Active                     Y   \n",
      "19  Active                     N   \n",
      "\n",
      "                                               theme1  \\\n",
      "0       {'Percent': 100, 'Name': 'Education for all'}   \n",
      "1   {'Percent': 30, 'Name': 'Other economic manage...   \n",
      "2     {'Percent': 46, 'Name': 'Regional integration'}   \n",
      "3   {'Percent': 50, 'Name': 'Participation and civ...   \n",
      "4   {'Percent': 30, 'Name': 'Export development an...   \n",
      "5      {'Percent': 100, 'Name': 'Social safety nets'}   \n",
      "6   {'Percent': 20, 'Name': 'Administrative and ci...   \n",
      "7          {'Percent': 100, 'Name': 'Climate change'}   \n",
      "8   {'Percent': 87, 'Name': 'Other rural developme...   \n",
      "9   {'Percent': 33, 'Name': 'Other accountability/...   \n",
      "10  {'Percent': 100, 'Name': 'Global food crisis r...   \n",
      "11  {'Percent': 60, 'Name': 'Rural services and in...   \n",
      "12                         {'Percent': 0, 'Name': ''}   \n",
      "13    {'Percent': 20, 'Name': 'Regional integration'}   \n",
      "14      {'Percent': 50, 'Name': 'Social safety nets'}   \n",
      "15  {'Percent': 60, 'Name': 'Rural services and in...   \n",
      "16  {'Percent': 100, 'Name': 'Other rural developm...   \n",
      "17      {'Percent': 100, 'Name': 'Education for all'}   \n",
      "18            {'Percent': 17, 'Name': 'Child health'}   \n",
      "19  {'Percent': 40, 'Name': 'Public expenditure, f...   \n",
      "\n",
      "                                       theme_namecode       themecode  \\\n",
      "0       [{'code': '65', 'name': 'Education for all'}]              65   \n",
      "1   [{'code': '24', 'name': 'Other economic manage...           54,24   \n",
      "2   [{'code': '47', 'name': 'Regional integration'...     52,81,25,47   \n",
      "3   [{'code': '57', 'name': 'Participation and civ...           59,57   \n",
      "4   [{'code': '45', 'name': 'Export development an...           41,45   \n",
      "5      [{'code': '54', 'name': 'Social safety nets'}]              54   \n",
      "6   [{'code': '25', 'name': 'Administrative and ci...           39,25   \n",
      "7          [{'code': '81', 'name': 'Climate change'}]              81   \n",
      "8   [{'code': '79', 'name': 'Other rural developme...              79   \n",
      "9   [{'code': '29', 'name': 'Other accountability/...        27,30,29   \n",
      "10  [{'code': '91', 'name': 'Global food crisis re...              91   \n",
      "11  [{'code': '78', 'name': 'Rural services and in...     81,87,52,78   \n",
      "12                                                NaN             NaN   \n",
      "13  [{'code': '47', 'name': 'Regional integration'...        78,81,47   \n",
      "14  [{'code': '54', 'name': 'Social safety nets'},...        53,56,54   \n",
      "15  [{'code': '78', 'name': 'Rural services and in...        49,81,78   \n",
      "16  [{'code': '79', 'name': 'Other rural developme...              79   \n",
      "17      [{'code': '65', 'name': 'Education for all'}]              65   \n",
      "18  [{'code': '63', 'name': 'Child health'}, {'cod...  69,57,25,67,63   \n",
      "19  [{'code': '27', 'name': 'Public expenditure, f...        25,26,27   \n",
      "\n",
      "     totalamt totalcommamt                                                url  \n",
      "0   130000000    130000000  http://www.worldbank.org/projects/P129828/ethi...  \n",
      "1           0      4700000  http://www.worldbank.org/projects/P144674?lang=en  \n",
      "2     6060000      6060000  http://www.worldbank.org/projects/P145310?lang=en  \n",
      "3           0      1500000  http://www.worldbank.org/projects/P144665?lang=en  \n",
      "4    13100000     13100000  http://www.worldbank.org/projects/P144933/seco...  \n",
      "5    10000000     10000000  http://www.worldbank.org/projects/P146161?lang=en  \n",
      "6   500000000    500000000  http://www.worldbank.org/projects/P121185/firs...  \n",
      "7           0     27280000  http://www.worldbank.org/projects/P127033/chin...  \n",
      "8   160000000    160000000  http://www.worldbank.org/projects/P130164/raja...  \n",
      "9   200000000    200000000  http://www.worldbank.org/projects/P130903?lang=en  \n",
      "10          0      7530000  http://www.worldbank.org/projects/P145339?lang=en  \n",
      "11  250000000    250000000  http://www.worldbank.org/projects/P146653?lang=en  \n",
      "12   97000000     97000000  http://www.worldbank.org/projects/P144140/gh-e...  \n",
      "13   40000000     40000000  http://www.worldbank.org/projects/P130975/timo...  \n",
      "14          0      9500000  http://www.worldbank.org/projects/P144832?lang=en  \n",
      "15   20000000     20000000  http://www.worldbank.org/projects/P145545?lang=en  \n",
      "16    5000000      5000000  http://www.worldbank.org/projects/P145938?lang=en  \n",
      "17          0     85400000  http://www.worldbank.org/projects/P132616?lang=en  \n",
      "18          0     13450000  http://www.worldbank.org/projects/P146271?lang=en  \n",
      "19          0      4350000  http://www.worldbank.org/projects/P143979?lang=en  \n",
      "\n",
      "[20 rows x 50 columns]\n"
     ]
    },
    {
     "data": {
      "text/plain": [
       "'\\nMission accomplished on \"df\" DataFrame \\n'"
      ]
     },
     "execution_count": 27,
     "metadata": {},
     "output_type": "execute_result"
    }
   ],
   "source": []
  },
  {
   "cell_type": "code",
   "execution_count": 14,
   "metadata": {},
   "outputs": [
    {
     "ename": "TypeError",
     "evalue": "string indices must be integers",
     "output_type": "error",
     "traceback": [
      "\u001b[0;31m---------------------------------------------------------------------------\u001b[0m",
      "\u001b[0;31mTypeError\u001b[0m                                 Traceback (most recent call last)",
      "\u001b[0;32m<ipython-input-14-3f3fa98d25dc>\u001b[0m in \u001b[0;36m<module>\u001b[0;34m()\u001b[0m\n\u001b[1;32m      1\u001b[0m \u001b[0;32mfrom\u001b[0m \u001b[0mpandas\u001b[0m\u001b[0;34m.\u001b[0m\u001b[0mio\u001b[0m\u001b[0;34m.\u001b[0m\u001b[0mjson\u001b[0m \u001b[0;32mimport\u001b[0m \u001b[0mjson_normalize\u001b[0m\u001b[0;34m\u001b[0m\u001b[0m\n\u001b[0;32m----> 2\u001b[0;31m \u001b[0mjson_normalize\u001b[0m\u001b[0;34m(\u001b[0m\u001b[0mdf\u001b[0m\u001b[0;34m,\u001b[0m \u001b[0;34m'mjtheme_namecode'\u001b[0m\u001b[0;34m)\u001b[0m\u001b[0;34m\u001b[0m\u001b[0m\n\u001b[0m",
      "\u001b[0;32m/Users/cpkoywk/anaconda/lib/python3.6/site-packages/pandas/io/json/normalize.py\u001b[0m in \u001b[0;36mjson_normalize\u001b[0;34m(data, record_path, meta, meta_prefix, record_prefix, errors, sep)\u001b[0m\n\u001b[1;32m    246\u001b[0m                 \u001b[0mrecords\u001b[0m\u001b[0;34m.\u001b[0m\u001b[0mextend\u001b[0m\u001b[0;34m(\u001b[0m\u001b[0mrecs\u001b[0m\u001b[0;34m)\u001b[0m\u001b[0;34m\u001b[0m\u001b[0m\n\u001b[1;32m    247\u001b[0m \u001b[0;34m\u001b[0m\u001b[0m\n\u001b[0;32m--> 248\u001b[0;31m     \u001b[0m_recursive_extract\u001b[0m\u001b[0;34m(\u001b[0m\u001b[0mdata\u001b[0m\u001b[0;34m,\u001b[0m \u001b[0mrecord_path\u001b[0m\u001b[0;34m,\u001b[0m \u001b[0;34m{\u001b[0m\u001b[0;34m}\u001b[0m\u001b[0;34m,\u001b[0m \u001b[0mlevel\u001b[0m\u001b[0;34m=\u001b[0m\u001b[0;36m0\u001b[0m\u001b[0;34m)\u001b[0m\u001b[0;34m\u001b[0m\u001b[0m\n\u001b[0m\u001b[1;32m    249\u001b[0m \u001b[0;34m\u001b[0m\u001b[0m\n\u001b[1;32m    250\u001b[0m     \u001b[0mresult\u001b[0m \u001b[0;34m=\u001b[0m \u001b[0mDataFrame\u001b[0m\u001b[0;34m(\u001b[0m\u001b[0mrecords\u001b[0m\u001b[0;34m)\u001b[0m\u001b[0;34m\u001b[0m\u001b[0m\n",
      "\u001b[0;32m/Users/cpkoywk/anaconda/lib/python3.6/site-packages/pandas/io/json/normalize.py\u001b[0m in \u001b[0;36m_recursive_extract\u001b[0;34m(data, path, seen_meta, level)\u001b[0m\n\u001b[1;32m    223\u001b[0m         \u001b[0;32melse\u001b[0m\u001b[0;34m:\u001b[0m\u001b[0;34m\u001b[0m\u001b[0m\n\u001b[1;32m    224\u001b[0m             \u001b[0;32mfor\u001b[0m \u001b[0mobj\u001b[0m \u001b[0;32min\u001b[0m \u001b[0mdata\u001b[0m\u001b[0;34m:\u001b[0m\u001b[0;34m\u001b[0m\u001b[0m\n\u001b[0;32m--> 225\u001b[0;31m                 \u001b[0mrecs\u001b[0m \u001b[0;34m=\u001b[0m \u001b[0m_pull_field\u001b[0m\u001b[0;34m(\u001b[0m\u001b[0mobj\u001b[0m\u001b[0;34m,\u001b[0m \u001b[0mpath\u001b[0m\u001b[0;34m[\u001b[0m\u001b[0;36m0\u001b[0m\u001b[0;34m]\u001b[0m\u001b[0;34m)\u001b[0m\u001b[0;34m\u001b[0m\u001b[0m\n\u001b[0m\u001b[1;32m    226\u001b[0m \u001b[0;34m\u001b[0m\u001b[0m\n\u001b[1;32m    227\u001b[0m                 \u001b[0;31m# For repeating the metadata later\u001b[0m\u001b[0;34m\u001b[0m\u001b[0;34m\u001b[0m\u001b[0m\n",
      "\u001b[0;32m/Users/cpkoywk/anaconda/lib/python3.6/site-packages/pandas/io/json/normalize.py\u001b[0m in \u001b[0;36m_pull_field\u001b[0;34m(js, spec)\u001b[0m\n\u001b[1;32m    169\u001b[0m                 \u001b[0mresult\u001b[0m \u001b[0;34m=\u001b[0m \u001b[0mresult\u001b[0m\u001b[0;34m[\u001b[0m\u001b[0mfield\u001b[0m\u001b[0;34m]\u001b[0m\u001b[0;34m\u001b[0m\u001b[0m\n\u001b[1;32m    170\u001b[0m         \u001b[0;32melse\u001b[0m\u001b[0;34m:\u001b[0m\u001b[0;34m\u001b[0m\u001b[0m\n\u001b[0;32m--> 171\u001b[0;31m             \u001b[0mresult\u001b[0m \u001b[0;34m=\u001b[0m \u001b[0mresult\u001b[0m\u001b[0;34m[\u001b[0m\u001b[0mspec\u001b[0m\u001b[0;34m]\u001b[0m\u001b[0;34m\u001b[0m\u001b[0m\n\u001b[0m\u001b[1;32m    172\u001b[0m \u001b[0;34m\u001b[0m\u001b[0m\n\u001b[1;32m    173\u001b[0m         \u001b[0;32mreturn\u001b[0m \u001b[0mresult\u001b[0m\u001b[0;34m\u001b[0m\u001b[0m\n",
      "\u001b[0;31mTypeError\u001b[0m: string indices must be integers"
     ]
    }
   ],
   "source": []
  },
  {
   "cell_type": "code",
   "execution_count": 16,
   "metadata": {},
   "outputs": [
    {
     "data": {
      "text/plain": [
       "numpy.ndarray"
      ]
     },
     "execution_count": 16,
     "metadata": {},
     "output_type": "execute_result"
    }
   ],
   "source": [
    "type(df.mjtheme_namecode.values)"
   ]
  },
  {
   "cell_type": "code",
   "execution_count": null,
   "metadata": {
    "collapsed": true
   },
   "outputs": [],
   "source": []
  }
 ],
 "metadata": {
  "kernelspec": {
   "display_name": "Python 3",
   "language": "python",
   "name": "python3"
  },
  "language_info": {
   "codemirror_mode": {
    "name": "ipython",
    "version": 3
   },
   "file_extension": ".py",
   "mimetype": "text/x-python",
   "name": "python",
   "nbconvert_exporter": "python",
   "pygments_lexer": "ipython3",
   "version": "3.6.1"
  },
  "toc": {
   "nav_menu": {},
   "number_sections": true,
   "sideBar": true,
   "skip_h1_title": false,
   "toc_cell": false,
   "toc_position": {},
   "toc_section_display": "block",
   "toc_window_display": false
  },
  "varInspector": {
   "cols": {
    "lenName": 16,
    "lenType": 16,
    "lenVar": 40
   },
   "kernels_config": {
    "python": {
     "delete_cmd_postfix": "",
     "delete_cmd_prefix": "del ",
     "library": "var_list.py",
     "varRefreshCmd": "print(var_dic_list())"
    },
    "r": {
     "delete_cmd_postfix": ") ",
     "delete_cmd_prefix": "rm(",
     "library": "var_list.r",
     "varRefreshCmd": "cat(var_dic_list()) "
    }
   },
   "types_to_exclude": [
    "module",
    "function",
    "builtin_function_or_method",
    "instance",
    "_Feature"
   ],
   "window_display": true
  }
 },
 "nbformat": 4,
 "nbformat_minor": 1
}
