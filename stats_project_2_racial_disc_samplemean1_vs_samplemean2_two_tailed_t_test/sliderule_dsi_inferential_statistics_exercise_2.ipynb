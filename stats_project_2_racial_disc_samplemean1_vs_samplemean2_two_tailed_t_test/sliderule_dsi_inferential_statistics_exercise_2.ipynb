{
 "cells": [
  {
   "cell_type": "markdown",
   "metadata": {
    "button": false,
    "deletable": true,
    "new_sheet": false,
    "run_control": {
     "read_only": false
    }
   },
   "source": [
    "# Examining Racial Discrimination in the US Job Market\n",
    "\n",
    "**submitted by: Pan Chen\n",
    "\n",
    "### Background\n",
    "Racial discrimination continues to be pervasive in cultures throughout the world. Researchers examined the level of racial discrimination in the United States labor market by randomly assigning identical résumés to black-sounding or white-sounding names and observing the impact on requests for interviews from employers.\n",
    "\n",
    "### Data\n",
    "In the dataset provided, each row represents a resume. The 'race' column has two values, 'b' and 'w', indicating black-sounding and white-sounding. The column 'call' has two values, 1 and 0, indicating whether the resume received a call from employers or not.\n",
    "\n",
    "Note that the 'b' and 'w' values in race are assigned randomly to the resumes when presented to the employer."
   ]
  },
  {
   "cell_type": "markdown",
   "metadata": {
    "button": false,
    "deletable": true,
    "new_sheet": false,
    "run_control": {
     "read_only": false
    }
   },
   "source": [
    "### Exercises\n",
    "You will perform a statistical analysis to establish whether race has a significant impact on the rate of callbacks for resumes.\n",
    "\n",
    "Answer the following questions **in this notebook below and submit to your Github account**. \n",
    "\n",
    "   1. What test is appropriate for this problem? Does CLT apply?\n",
    "   2. What are the null and alternate hypotheses?\n",
    "   3. Compute margin of error, confidence interval, and p-value.\n",
    "   4. Write a story describing the statistical significance in the context or the original problem.\n",
    "   5. Does your analysis mean that race/name is the most important factor in callback success? Why or why not? If not, how would you amend your analysis?\n",
    "\n",
    "You can include written notes in notebook cells using Markdown: \n",
    "   - In the control panel at the top, choose Cell > Cell Type > Markdown\n",
    "   - Markdown syntax: http://nestacms.com/docs/creating-content/markdown-cheat-sheet\n",
    "\n",
    "\n",
    "#### Resources\n",
    "+ Experiment information and data source: http://www.povertyactionlab.org/evaluation/discrimination-job-market-united-states\n",
    "+ Scipy statistical methods: http://docs.scipy.org/doc/scipy/reference/stats.html \n",
    "+ Markdown syntax: http://nestacms.com/docs/creating-content/markdown-cheat-sheet\n",
    "****"
   ]
  },
  {
   "cell_type": "code",
   "execution_count": 1,
   "metadata": {
    "button": false,
    "collapsed": true,
    "deletable": true,
    "new_sheet": false,
    "run_control": {
     "read_only": false
    }
   },
   "outputs": [],
   "source": [
    "import pandas as pd\n",
    "import numpy as np\n",
    "from scipy import stats"
   ]
  },
  {
   "cell_type": "code",
   "execution_count": 2,
   "metadata": {
    "button": false,
    "collapsed": true,
    "deletable": true,
    "new_sheet": false,
    "run_control": {
     "read_only": false
    }
   },
   "outputs": [],
   "source": [
    "data = pd.io.stata.read_stata('data/us_job_market_discrimination.dta')\n",
    "#only include the columns for this particular analysis\n",
    "df=data[['race','call']]\n"
   ]
  },
  {
   "cell_type": "markdown",
   "metadata": {
    "button": false,
    "collapsed": true,
    "deletable": true,
    "new_sheet": false,
    "run_control": {
     "read_only": false
    }
   },
   "source": [
    "# 1. What test is appropriate for this problem? Does CLT apply?\n",
    "Naturally, I would like to use the chi-square test for independence for this problem, because whether a person receives a callback is a categorical variable, and the chi-square test for independence tests to see whether distributions of categorical variables differ from each another...\n",
    "\n",
    "However, the third question asks to get a margin of error and confidence interval, so I will use a two-tailed t-test for independent samples. The reason I chose t instead of z is because we don't know about the standard deviations of the callback values of neither population (black names/white names)\n",
    "\n",
    "CLT applies, because the sample is large enough, and it's has identically distributed independent variables. All of the data points are independent from each other, and drawn from the same probability distribution."
   ]
  },
  {
   "cell_type": "markdown",
   "metadata": {
    "button": false,
    "deletable": true,
    "new_sheet": false,
    "run_control": {
     "read_only": false
    }
   },
   "source": [
    "# 2. What are the null and alternate hypotheses?\n",
    "**H0**: People with black sounding names have the same chance of being called back as the people with white sounding names.\n",
    "\n",
    "**HA**: People with black sounding names don't have the same chance of being called back as the people with white sounding names.\n",
    "\n"
   ]
  },
  {
   "cell_type": "markdown",
   "metadata": {
    "button": false,
    "deletable": true,
    "new_sheet": false,
    "run_control": {
     "read_only": false
    }
   },
   "source": [
    "# 3. Compute margin of error, confidence interval, and p-value.\n",
    "Assume we are going to calculate a 95% confidence interval\n",
    "\n",
    "s1=standard deviation of black names' chance of being called back  \n",
    "s2=standard deviation of white names' chance of being called back\n",
    "\n",
    "Margin of Error=t<sub>(a/2)</sub>*sqrt(s1^2/n1+s2^2/n2)  \n",
    "\n",
    "LL=xbar1-xbar2-me  \n",
    "UL=xbar1-xbar2+me\n",
    "\n",
    "p-value=2*P(t>|Test Statistics|)\n",
    "\n",
    "Test Statistics=(xbar1-xbar2)/sqrt(s1^2/n1+s2^2/n2)"
   ]
  },
  {
   "cell_type": "code",
   "execution_count": 3,
   "metadata": {
    "button": false,
    "collapsed": false,
    "deletable": true,
    "new_sheet": false,
    "run_control": {
     "read_only": false
    }
   },
   "outputs": [
    {
     "name": "stdout",
     "output_type": "stream",
     "text": [
      "margin of error is: 0.015258797951013666, confidence interval is: [-0.047291652806074246, -0.016774056904046909], p-value is: 3.92587953657042e-05\n"
     ]
    }
   ],
   "source": [
    "n1=len(df[df.race==\"b\"])\n",
    "n2=len(df[df.race==\"w\"])\n",
    "xbar1=np.mean(df[df.race==\"b\"]['call'])\n",
    "xbar2=np.mean(df[df.race==\"w\"]['call'])\n",
    "\n",
    "#compute s1\n",
    "s1=np.std(df[df.race==\"b\"].call)\n",
    "\n",
    "#compute s2\n",
    "s2=np.std(df[df.race==\"w\"].call)\n",
    "\n",
    "dfreedom=len(df[df.race==\"w\"])+len(df[df.race==\"b\"])-2\n",
    "\n",
    "t=stats.t.ppf(1-0.025, dfreedom)\n",
    "test=(xbar1-xbar2)/np.sqrt(s1**2/n1+s2**2/n2)\n",
    "#pvalue=2*P(t>|Test Statistics|)\n",
    "pvalue=2*(1-stats.t.cdf(abs(test),dfreedom))\n",
    "#compute Margin of error\n",
    "me=t*np.sqrt(s1**2/n1+s2**2/n2)\n",
    "ll=xbar1-xbar2-me\n",
    "ul=xbar1-xbar2+me\n",
    "\n",
    "print('margin of error is: {}, confidence interval is: {}, p-value is: {}'.format(me,[ll,ul],pvalue))"
   ]
  },
  {
   "cell_type": "code",
   "execution_count": 62,
   "metadata": {
    "button": false,
    "collapsed": false,
    "deletable": true,
    "new_sheet": false,
    "run_control": {
     "read_only": false
    }
   },
   "outputs": [
    {
     "data": {
      "text/plain": [
       "Ttest_indResult(statistic=-4.1147052908617514, pvalue=3.9429415136459352e-05)"
      ]
     },
     "execution_count": 62,
     "metadata": {},
     "output_type": "execute_result"
    }
   ],
   "source": [
    "#Take the shortcut...\n",
    "import scipy.stats as stats\n",
    "stats.ttest_ind(df[df.race==\"b\"]['call'], df[df.race==\"w\"]['call'],equal_var=False)"
   ]
  },
  {
   "cell_type": "code",
   "execution_count": 64,
   "metadata": {
    "button": false,
    "collapsed": true,
    "deletable": true,
    "new_sheet": false,
    "run_control": {
     "read_only": false
    }
   },
   "outputs": [],
   "source": [
    "#chi-square test\n",
    "#from scipy.stats import chi2_contingency\n",
    "#do an observed table\n",
    "#tab = pd.crosstab(df.race, df.call, margins = True)\n",
    "#tab.columns = [\"no_call\",\"call\",'total']\n",
    "#tab=tab.iloc[0:2,0:2]\n",
    "\n",
    "#chi2_contingency(np.array(tab))\n",
    "#output is chi^2, p-value, degree of freedom, and expected value table"
   ]
  },
  {
   "cell_type": "markdown",
   "metadata": {
    "button": false,
    "collapsed": true,
    "deletable": true,
    "new_sheet": false,
    "run_control": {
     "read_only": false
    }
   },
   "source": [
    "# 4. Write a story describing the statistical significance in the context or the original problem.\n",
    "The p-value is 3.92587953657042e-05 and statistic is below zero, so we can reject the null hypothesis, which means we can say with confidence that people with black sounding names have the less chance of being called back as the people with white sounding names."
   ]
  },
  {
   "cell_type": "markdown",
   "metadata": {
    "button": false,
    "collapsed": true,
    "deletable": true,
    "new_sheet": false,
    "run_control": {
     "read_only": false
    }
   },
   "source": [
    "# 5. Does your analysis mean that race/name is the most important factor in callback success? Why or why not? If not, how would you amend your analysis?\n",
    "It does not mean that race/name is the **most** important factor in callback success, \n",
    "because: \n",
    "1) there is no validity test that the recruiters actually perceived the \"white-sounding names\" as white applicants as the researchers expected. \n",
    "2) There are other factors that might affect callback success rate, so these must be analyzed and ranked to test which feature is the **most** important in callback success\n",
    "\n"
   ]
  },
  {
   "cell_type": "code",
   "execution_count": null,
   "metadata": {
    "button": false,
    "collapsed": true,
    "deletable": true,
    "new_sheet": false,
    "run_control": {
     "read_only": false
    }
   },
   "outputs": [],
   "source": []
  }
 ],
 "metadata": {
  "kernelspec": {
   "display_name": "Python 3",
   "language": "python",
   "name": "python3"
  },
  "language_info": {
   "codemirror_mode": {
    "name": "ipython",
    "version": 3
   },
   "file_extension": ".py",
   "mimetype": "text/x-python",
   "name": "python",
   "nbconvert_exporter": "python",
   "pygments_lexer": "ipython3",
   "version": "3.5.0"
  },
  "toc": {
   "nav_menu": {},
   "number_sections": true,
   "sideBar": true,
   "skip_h1_title": false,
   "toc_cell": false,
   "toc_position": {},
   "toc_section_display": "block",
   "toc_window_display": false
  },
  "varInspector": {
   "cols": {
    "lenName": 16,
    "lenType": 16,
    "lenVar": 40
   },
   "kernels_config": {
    "python": {
     "delete_cmd_postfix": "",
     "delete_cmd_prefix": "del ",
     "library": "var_list.py",
     "varRefreshCmd": "print(var_dic_list())"
    },
    "r": {
     "delete_cmd_postfix": ") ",
     "delete_cmd_prefix": "rm(",
     "library": "var_list.r",
     "varRefreshCmd": "cat(var_dic_list()) "
    }
   },
   "types_to_exclude": [
    "module",
    "function",
    "builtin_function_or_method",
    "instance",
    "_Feature"
   ],
   "window_display": false
  }
 },
 "nbformat": 4,
 "nbformat_minor": 1
}
